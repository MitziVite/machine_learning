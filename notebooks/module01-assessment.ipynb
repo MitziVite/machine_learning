{
  "nbformat": 4,
  "nbformat_minor": 0,
  "metadata": {
    "colab": {
      "name": "Assessment.ipynb",
      "provenance": [],
      "include_colab_link": true
    },
    "kernelspec": {
      "name": "python3",
      "display_name": "Python 3"
    }
  },
  "cells": [
    {
      "cell_type": "markdown",
      "metadata": {
        "id": "view-in-github",
        "colab_type": "text"
      },
      "source": [
        "<a href=\"https://colab.research.google.com/github/MitziVite/machine_learning/blob/main/notebooks/module01-assessment.ipynb\" target=\"_parent\"><img src=\"https://colab.research.google.com/assets/colab-badge.svg\" alt=\"Open In Colab\"/></a>"
      ]
    },
    {
      "cell_type": "markdown",
      "metadata": {
        "id": "E5dpj74Hya2q"
      },
      "source": [
        "# Introduction\n",
        "This assignment will test how well you're able to perform various data science-related tasks.\n",
        "\n",
        "Each Problem Group below will center around a particular dataset that you have worked with before.\n",
        "\n",
        "To ensure you receive full credit for a question, make sure you demonstrate the appropriate pandas, altair, or other commands as requested in the provided code blocks.\n",
        "\n",
        "You may find that some questions require multiple steps to fully answer. Others require some mental arithmetic in addition to pandas commands. Use your best judgment.\n",
        "\n",
        "## Submission\n",
        "Each problem group asks a series of questions. This assignment consists of two submissions:\n",
        "\n",
        "1. After completing the questions below, open the Module 01 Assessment Quiz in Canvas and enter your answers to these questions there.\n",
        "\n",
        "2. After completing and submitting the quiz, save this Colab notebook as a GitHub Gist (You'll need to create a GitHub account for this), by selecting `Save a copy as a GitHub Gist` from the `File` menu above.\n",
        "\n",
        "    In Canvas, open the Module 01 Assessment GitHub Gist assignment and paste the GitHub Gist URL for this notebook. Then submit that assignment."
      ]
    },
    {
      "cell_type": "markdown",
      "metadata": {
        "id": "WgYhh-W3xk4e"
      },
      "source": [
        "## Problem Group 1\n",
        "\n",
        "For the questions in this group, you'll work with the Netflix Movies Dataset found at this url: [https://raw.githubusercontent.com/byui-cse/cse450-course/master/data/netflix_titles.csv](https://raw.githubusercontent.com/byui-cse/cse450-course/master/data/netflix_titles.csv)\n"
      ]
    },
    {
      "cell_type": "markdown",
      "metadata": {
        "id": "kulUs9K7xxB3"
      },
      "source": [
        "### Question 1\n",
        "Load the dataset into a Pandas data frame and determine what data type is used to store the `release_year` feature."
      ]
    },
    {
      "cell_type": "code",
      "metadata": {
        "id": "ecSfSVrsxjx5",
        "outputId": "2f45e914-0217-4e44-bd2c-bc02d0c8478a",
        "colab": {
          "base_uri": "https://localhost:8080/"
        }
      },
      "source": [
        "import pandas as pd\n",
        "csv_url = 'https://raw.githubusercontent.com/byui-cse/cse450-course/master/data/netflix_titles.csv'\n",
        "df = pd.read_csv(csv_url)\n",
        "print(df.head())\n",
        "# print(df.info)\n",
        "print(df['release_year'].dtype)\n"
      ],
      "execution_count": 20,
      "outputs": [
        {
          "output_type": "stream",
          "name": "stdout",
          "text": [
            "    show_id     type                                    title  \\\n",
            "0  81145628    Movie  Norm of the North: King Sized Adventure   \n",
            "1  80117401    Movie               Jandino: Whatever it Takes   \n",
            "2  70234439  TV Show                       Transformers Prime   \n",
            "3  80058654  TV Show         Transformers: Robots in Disguise   \n",
            "4  80125979    Movie                             #realityhigh   \n",
            "\n",
            "                   director  \\\n",
            "0  Richard Finn, Tim Maltby   \n",
            "1                       NaN   \n",
            "2                       NaN   \n",
            "3                       NaN   \n",
            "4          Fernando Lebrija   \n",
            "\n",
            "                                                cast  \\\n",
            "0  Alan Marriott, Andrew Toth, Brian Dobson, Cole...   \n",
            "1                                   Jandino Asporaat   \n",
            "2  Peter Cullen, Sumalee Montano, Frank Welker, J...   \n",
            "3  Will Friedle, Darren Criss, Constance Zimmer, ...   \n",
            "4  Nesta Cooper, Kate Walsh, John Michael Higgins...   \n",
            "\n",
            "                                    country         date_added  release_year  \\\n",
            "0  United States, India, South Korea, China  September 9, 2019          2019   \n",
            "1                            United Kingdom  September 9, 2016          2016   \n",
            "2                             United States  September 8, 2018          2013   \n",
            "3                             United States  September 8, 2018          2016   \n",
            "4                             United States  September 8, 2017          2017   \n",
            "\n",
            "     rating  duration                           listed_in  \\\n",
            "0     TV-PG    90 min  Children & Family Movies, Comedies   \n",
            "1     TV-MA    94 min                     Stand-Up Comedy   \n",
            "2  TV-Y7-FV  1 Season                            Kids' TV   \n",
            "3     TV-Y7  1 Season                            Kids' TV   \n",
            "4     TV-14    99 min                            Comedies   \n",
            "\n",
            "                                         description  \n",
            "0  Before planning an awesome wedding for his gra...  \n",
            "1  Jandino Asporaat riffs on the challenges of ra...  \n",
            "2  With the help of three human allies, the Autob...  \n",
            "3  When a prison ship crash unleashes hundreds of...  \n",
            "4  When nerdy high schooler Dani finally attracts...  \n",
            "int64\n"
          ]
        }
      ]
    },
    {
      "cell_type": "markdown",
      "metadata": {
        "id": "ivpHTGpczpyM"
      },
      "source": [
        "### Question 2\n",
        "Filter your dataset so it contains only `TV Shows`. How many of those TV Shows were rated `TV-Y7`?"
      ]
    },
    {
      "cell_type": "code",
      "metadata": {
        "id": "Zf6QABfXx5Xh",
        "outputId": "c489df77-79f2-4e4f-c907-7ead6fc1df81",
        "colab": {
          "base_uri": "https://localhost:8080/"
        }
      },
      "source": [
        "tv_shows = df[df['type'] == 'TV Show']\n",
        "count_y7 = tv_shows[tv_shows['rating'] == 'TV-Y7'].value_counts()\n",
        "print(count_y7)"
      ],
      "execution_count": 4,
      "outputs": [
        {
          "output_type": "stream",
          "name": "stdout",
          "text": [
            "show_id   type     title                                    director            cast                                                                                                                                                                                                                                                                                                                      country                     date_added          release_year  rating  duration   listed_in                        description                                                                                                                                           \n",
            "70286808  TV Show  Oggy and the Cockroaches                 Olivier Jean-Marie  Don Michael Paul, Tony Sampson, Sam Vincent, Matt Hill, Greg Eagles, Peter Kelamis, Tara Strong, Rick Jones                                                                                                                                                                                                               France                      December 1, 2017    2017          TV-Y7   1 Season   Kids' TV, TV Comedies            Wimpy blue cat Oggy would like nothing more than to snooze, but he's constantly bothered by the three ugly cockroaches who have invaded his home.         1\n",
            "80007778  TV Show  World of Winx                            Iginio Straffi      Haven Paschall, Alysha Deslorieux, Jessica Paquet, Eileen Stevens, Kate Bristol, Saskia Maarleveld, Brittany Pressley, Billy Bob Thompson, Marc Thompson, Suzy Myers, Jason Griffith, Samara Naeymi, Wayne Grayson, Alyson Leigh Rosenfeld, Abe Goldfarb, Lisa Flanagan                                                   Italy, United States         June 16, 2017      2017          TV-Y7   2 Seasons  Kids' TV                         The reality show \"WOW!\" engages the Winx in their mission, starting an undercover, worldly journey in order to make talented kids' dreams come true.      1\n",
            "80144408  TV Show  Maggie & Bianca: Fashion Friends         Iginio Straffi      Emanuela Rei, Giorgia Boni, Sergio Ruggeri, Luca Murphy, Federica Corti, Federico Pedroni, Tiffany Zhou, Sergio Melone                                                                                                                                                                                                    Italy                       March 31, 2019      2017          TV-Y7   1 Season   Kids' TV, TV Comedies            Originally polar opposites, an American fashion student and the daughter of an industry mogul form an everlasting bond and start a rock band in Milan.    1\n",
            "80164216  TV Show  Miraculous: Tales of Ladybug & Cat Noir  Thomas Astruc       Cristina Vee, Bryce Papenbrook, Keith Silverstein, Mela Lee, Max Mittelman, Carrie Keranen, Stephanie Sheh, André Gordon, Matthew Mercer, Christopher Corey Smith, Philece Sampler, Selah Victor, Marieve Herington, Ben Diskin, Kira Buckland, Erin Fitzgerald, Grant George, Ethan Murray, David Roach, Todd Haberkorn  France, South Korea, Japan   August 2, 2019     2018          TV-Y7   4 Seasons  Kids' TV, TV Action & Adventure  When Paris is in peril, Marinette becomes Ladybug. Little does she know, her school crush Adrien is actually Cat Noir, another city-saving superhero.     1\n",
            "80170381  TV Show  Th Eena Meena Deeka Chase Comedy Show    Dheeraj Berry       Sanjay Keni, Priya Raina                                                                                                                                                                                                                                                                                                  India                       March 31, 2018      2015          TV-Y7   1 Season   Kids' TV, TV Comedies            A hungry fox and three resourceful, surprisingly formidable birds turn the animal kingdom on its head in this lively animated series.                     1\n",
            "80175619  TV Show  Glitter Force Doki Doki                  Go Koga             Debi Derryberry, Cassandra Morris, Melissa Fahn, Stephanie Sheh, Erica Lindbeck, Kate Higgins, Cherami Leigh, Tara Sands, Bryce Papenbrook, Erica Mendez, Ray Chase, Carrie Keranen, Ben Diskin, Grant George, Kirk Thornton                                                                                              Japan                        November 10, 2017  2017          TV-Y7   2 Seasons  Anime Series, Kids' TV           Four girls summon their inner superheroes to defend Earth and the magical kingdom of Splendorius from King Mercenare and his minions.                     1\n",
            "Name: count, dtype: int64\n"
          ]
        }
      ]
    },
    {
      "cell_type": "markdown",
      "metadata": {
        "id": "-esock-41eGo"
      },
      "source": [
        "### Question 3\n",
        "Further filter your dataset so it only contains TV Shows released between the years 2000 and 2009 inclusive. How many of *those* shows were rated `TV-Y7`?"
      ]
    },
    {
      "cell_type": "code",
      "metadata": {
        "id": "cBNHqCgz0WDp",
        "outputId": "f2ab7fdf-183f-44e4-da65-4ae6e52fa426",
        "colab": {
          "base_uri": "https://localhost:8080/"
        }
      },
      "source": [
        "years_realease = tv_shows[(tv_shows['release_year'] >= 2000) & (tv_shows['release_year']<= 2009)]\n",
        "total_y7 = years_realease['rating'].value_counts()['TV-Y7']\n",
        "# print(years_realease)\n",
        "print(f'The total number of TV Shows realease from 2000 to 2009 reated as TV-Y7 are: {total_y7}')"
      ],
      "execution_count": 5,
      "outputs": [
        {
          "output_type": "stream",
          "name": "stdout",
          "text": [
            "The total number of TV Shows realease from 2000 to 2009 reated as TV-Y7 are: 4\n"
          ]
        }
      ]
    },
    {
      "cell_type": "markdown",
      "metadata": {
        "id": "cB4zmoJm3XDj"
      },
      "source": [
        "## Problem Group 2\n",
        "\n",
        "For the questions in this group, you'll work with the Cereal Dataset found at this url: [https://raw.githubusercontent.com/byui-cse/cse450-course/master/data/cereal.csv](https://raw.githubusercontent.com/byui-cse/cse450-course/master/data/cereal.csv)\n"
      ]
    },
    {
      "cell_type": "markdown",
      "metadata": {
        "id": "BE_TdsHa3sMj"
      },
      "source": [
        "### Question 4\n",
        "After importing the dataset into a pandas data frame, determine the median amount of `protein` in cereal brands manufactured by Kelloggs. (`mfr` code \"K\")"
      ]
    },
    {
      "cell_type": "code",
      "metadata": {
        "id": "fBXFGnfP2tfV",
        "outputId": "855e07d8-6b4f-4fe3-e9b5-336278c90e65",
        "colab": {
          "base_uri": "https://localhost:8080/"
        }
      },
      "source": [
        "cereal_csv = 'https://raw.githubusercontent.com/byui-cse/cse450-course/master/data/cereal.csv'\n",
        "cereal_df = pd.read_csv(cereal_csv)\n",
        "mfr_kelloggs = cereal_df[cereal_df['mfr'] == 'K']\n",
        "median_protein_kellogs = mfr_kelloggs['protein'].median()\n",
        "\n",
        "print(cereal_df.head())\n",
        "print(f'The median amount of protein in Kelloggs cereals is: {median_protein_kellogs}')"
      ],
      "execution_count": 6,
      "outputs": [
        {
          "output_type": "stream",
          "name": "stdout",
          "text": [
            "                        name mfr type  calories  protein  fat  sodium  fiber  \\\n",
            "0                  100% Bran   N    C        70        4    1     130   10.0   \n",
            "1          100% Natural Bran   Q    C       120        3    5      15    2.0   \n",
            "2                   All-Bran   K    C        70        4    1     260    9.0   \n",
            "3  All-Bran with Extra Fiber   K    C        50        4    0     140   14.0   \n",
            "4             Almond Delight   R    C       110        2    2     200    1.0   \n",
            "\n",
            "   carbo  sugars  potass  vitamins  shelf  weight  cups     rating  \n",
            "0    5.0       6     280        25      3     1.0  0.33  68.402973  \n",
            "1    8.0       8     135         0      3     1.0  1.00  33.983679  \n",
            "2    7.0       5     320        25      3     1.0  0.33  59.425505  \n",
            "3    8.0       0     330        25      3     1.0  0.50  93.704912  \n",
            "4   14.0       8      -1        25      3     1.0  0.75  34.384843  \n",
            "The median amount of protein in Kelloggs cereals is: 3.0\n"
          ]
        }
      ]
    },
    {
      "cell_type": "markdown",
      "metadata": {
        "id": "W3del4PC9NJ-"
      },
      "source": [
        "### Question 5\n",
        "In order to comply with new government regulations, all cereals must now come with a \"Healthiness\" rating. This rating is calculated based on this formula:\n",
        "\n",
        "    healthiness = (protein + fiber) / sugar\n",
        "\n",
        "Create a new `healthiness` column populated with values based on the above formula.\n",
        "\n",
        "Then, determine the median healthiness value for only General Mills cereals (`mfr` = \"G\"), rounded to two decimal places."
      ]
    },
    {
      "cell_type": "code",
      "metadata": {
        "id": "TqFx9yvV6LDX",
        "outputId": "7fc13306-82f1-4e11-c366-98bf42625cd6",
        "colab": {
          "base_uri": "https://localhost:8080/"
        }
      },
      "source": [
        "cereal_df['healthiness'] = (cereal_df['protein'] + cereal_df['fiber']) / cereal_df['sugars']\n",
        "mfr_general_mills = cereal_df[cereal_df['mfr'] == 'G']\n",
        "median_healthiness_general_mills = mfr_general_mills['healthiness'].median()\n",
        "print(f'The median healthiness value for General Mills cereals is: {median_healthiness_general_mills:.2f}')\n"
      ],
      "execution_count": 13,
      "outputs": [
        {
          "output_type": "stream",
          "name": "stdout",
          "text": [
            "The median healthiness value for General Mills cereals is: 0.47\n"
          ]
        }
      ]
    },
    {
      "cell_type": "markdown",
      "metadata": {
        "id": "AcuUNAxC-g7c"
      },
      "source": [
        "## Problem Group 3\n",
        "\n",
        "For the questions in this group, you'll work with the Titanic Dataset found at this url: [https://raw.githubusercontent.com/byui-cse/cse450-course/master/data/titanic.csv](https://raw.githubusercontent.com/byui-cse/cse450-course/master/data/titanic.csv)"
      ]
    },
    {
      "cell_type": "markdown",
      "metadata": {
        "id": "POOuuXfYAJQK"
      },
      "source": [
        "### Question 6\n",
        "\n",
        "After loading the dataset into a pandas DataFrame, create a new column called `NameGroup` that contains the first letter of the passenger's surname in lower case.\n",
        "\n",
        "Note that in the dataset, passenger's names are provided in the `Name` column and are listed as:\n",
        "\n",
        "    Surname, Given names\n",
        "\n",
        "For example, if a passenger's `Name` is `Braund, Mr. Owen Harris`, the `NameGroup` column should contain the value `b`.\n",
        "\n",
        "Then count how many passengers have a `NameGroup` value of `k`."
      ]
    },
    {
      "cell_type": "code",
      "metadata": {
        "id": "T80gU65-ASFa",
        "outputId": "8e00ea37-fd0c-434c-886d-0389e6772066",
        "colab": {
          "base_uri": "https://localhost:8080/"
        }
      },
      "source": [
        "titanic_csv = 'https://raw.githubusercontent.com/byui-cse/cse450-course/master/data/titanic.csv'\n",
        "titanic_df = pd.read_csv(titanic_csv)\n",
        "titanic_df['NameGroup'] = titanic_df['Name'].str.split(',').str[0].str[0].str.lower()\n",
        "find_letter = titanic_df[titanic_df['NameGroup'] == 'k']\n",
        "count_letter = find_letter['NameGroup'].value_counts()\n",
        "print(count_letter)"
      ],
      "execution_count": 39,
      "outputs": [
        {
          "output_type": "stream",
          "name": "stdout",
          "text": [
            "NameGroup\n",
            "k    28\n",
            "Name: count, dtype: int64\n"
          ]
        }
      ]
    },
    {
      "cell_type": "code",
      "metadata": {
        "id": "E81qACTfAWl2"
      },
      "source": [],
      "execution_count": null,
      "outputs": []
    }
  ]
}